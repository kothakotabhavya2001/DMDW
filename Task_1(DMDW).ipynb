{
  "nbformat": 4,
  "nbformat_minor": 0,
  "metadata": {
    "colab": {
      "name": "Task 1(DMDW).ipynb",
      "provenance": [],
      "collapsed_sections": [],
      "authorship_tag": "ABX9TyP+hiCNG9U8WsfxQoyi0Gph",
      "include_colab_link": true
    },
    "kernelspec": {
      "name": "python3",
      "display_name": "Python 3"
    },
    "language_info": {
      "name": "python"
    }
  },
  "cells": [
    {
      "cell_type": "markdown",
      "metadata": {
        "id": "view-in-github",
        "colab_type": "text"
      },
      "source": [
        "<a href=\"https://colab.research.google.com/github/kothakotabhavya2001/DMDW/blob/main/Task_1(DMDW).ipynb\" target=\"_parent\"><img src=\"https://colab.research.google.com/assets/colab-badge.svg\" alt=\"Open In Colab\"/></a>"
      ]
    },
    {
      "cell_type": "code",
      "metadata": {
        "colab": {
          "base_uri": "https://localhost:8080/"
        },
        "id": "BVR1juPH1P2r",
        "outputId": "d03e2fdb-3422-4485-fe35-aca4619114bb"
      },
      "source": [
        "li=[12,35,18,9,56,24,7]\n",
        "lis=li.sort()\n",
        "sum=0\n",
        "n=len(li)\n",
        "for i in range(n):\n",
        "  sum+=li[i]\n",
        "mean=sum/n\n",
        "print(mean)\n",
        "s=n//2\n",
        "if(n%2==0):\n",
        "  re=lis[s]+lis[s-1]\n",
        "  res=re/2\n",
        "  print(\"median=\",res)\n",
        "else:print(li[s])"
      ],
      "execution_count": null,
      "outputs": [
        {
          "output_type": "stream",
          "name": "stdout",
          "text": [
            "23.0\n",
            "18\n"
          ]
        }
      ]
    },
    {
      "cell_type": "code",
      "metadata": {
        "colab": {
          "base_uri": "https://localhost:8080/"
        },
        "id": "kLR3n5Sj2FNp",
        "outputId": "707eb78e-1248-4b5c-8535-8ad797e8eba2"
      },
      "source": [
        "lis=[2,3,1,1,6,2,1,5]\n",
        "re=max(lis,key=lis.count)\n",
        "print(re)"
      ],
      "execution_count": null,
      "outputs": [
        {
          "output_type": "stream",
          "name": "stdout",
          "text": [
            "1\n"
          ]
        }
      ]
    },
    {
      "cell_type": "code",
      "metadata": {
        "colab": {
          "base_uri": "https://localhost:8080/"
        },
        "id": "ooUN5vkj7LXp",
        "outputId": "12ddfbc1-a646-4d5e-df24-6d2495aa4004"
      },
      "source": [
        "li=[12,35,18,9,56,24]\n",
        "li.sort()\n",
        "n=len(li)\n",
        "print(\"the second smallest element is\",li[1],\"secong highest elemsnt is:\",li[n-2])"
      ],
      "execution_count": null,
      "outputs": [
        {
          "output_type": "stream",
          "name": "stdout",
          "text": [
            "the second smallest element is 12 secong highest elemsnt is: 35\n"
          ]
        }
      ]
    }
  ]
}